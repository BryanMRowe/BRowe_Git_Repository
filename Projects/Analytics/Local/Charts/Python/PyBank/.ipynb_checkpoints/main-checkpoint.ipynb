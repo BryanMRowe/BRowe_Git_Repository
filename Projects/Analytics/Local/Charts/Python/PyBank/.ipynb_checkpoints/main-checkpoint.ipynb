{
 "cells": [
  {
   "cell_type": "code",
   "execution_count": 15,
   "metadata": {},
   "outputs": [],
   "source": [
    "# Import Dependencies\n",
    "import pandas as pd\n",
    "import numpy as np\n",
    "import os\n",
    "import datetime as dt"
   ]
  },
  {
   "cell_type": "code",
   "execution_count": 6,
   "metadata": {},
   "outputs": [],
   "source": [
    "# Set Paths\n",
    "csv_path1 = os.path.join(\"..\",\"..\",\"..\",\"UNCCHAR201802DATA2-Class-Repository-DATA\",\"Homework\",\"Week-03-Python\",\"Instructions\",\"PyBank\",\"raw_data\",\"budget_data_1.csv\")\n",
    "csv_path2 = os.path.join(\"..\",\"..\",\"..\",\"UNCCHAR201802DATA2-Class-Repository-DATA\",\"Homework\",\"Week-03-Python\",\"Instructions\",\"PyBank\",\"raw_data\",\"budget_data_2.csv\")"
   ]
  },
  {
   "cell_type": "code",
   "execution_count": 7,
   "metadata": {},
   "outputs": [
    {
     "data": {
      "text/html": [
       "<div>\n",
       "<style scoped>\n",
       "    .dataframe tbody tr th:only-of-type {\n",
       "        vertical-align: middle;\n",
       "    }\n",
       "\n",
       "    .dataframe tbody tr th {\n",
       "        vertical-align: top;\n",
       "    }\n",
       "\n",
       "    .dataframe thead th {\n",
       "        text-align: right;\n",
       "    }\n",
       "</style>\n",
       "<table border=\"1\" class=\"dataframe\">\n",
       "  <thead>\n",
       "    <tr style=\"text-align: right;\">\n",
       "      <th></th>\n",
       "      <th>Date</th>\n",
       "      <th>Revenue</th>\n",
       "    </tr>\n",
       "  </thead>\n",
       "  <tbody>\n",
       "    <tr>\n",
       "      <th>0</th>\n",
       "      <td>Oct-12</td>\n",
       "      <td>1154293</td>\n",
       "    </tr>\n",
       "    <tr>\n",
       "      <th>1</th>\n",
       "      <td>Nov-12</td>\n",
       "      <td>885773</td>\n",
       "    </tr>\n",
       "    <tr>\n",
       "      <th>2</th>\n",
       "      <td>Dec-12</td>\n",
       "      <td>-448704</td>\n",
       "    </tr>\n",
       "    <tr>\n",
       "      <th>3</th>\n",
       "      <td>Jan-13</td>\n",
       "      <td>563679</td>\n",
       "    </tr>\n",
       "    <tr>\n",
       "      <th>4</th>\n",
       "      <td>Feb-13</td>\n",
       "      <td>555394</td>\n",
       "    </tr>\n",
       "  </tbody>\n",
       "</table>\n",
       "</div>"
      ],
      "text/plain": [
       "     Date  Revenue\n",
       "0  Oct-12  1154293\n",
       "1  Nov-12   885773\n",
       "2  Dec-12  -448704\n",
       "3  Jan-13   563679\n",
       "4  Feb-13   555394"
      ]
     },
     "execution_count": 7,
     "metadata": {},
     "output_type": "execute_result"
    }
   ],
   "source": [
    "# Load DataFrames\n",
    "budget_df1 = pd.read_csv(csv_path1)\n",
    "budget_df2 = pd.read_csv(csv_path2)\n",
    "budget_df1.head()"
   ]
  },
  {
   "cell_type": "code",
   "execution_count": null,
   "metadata": {},
   "outputs": [],
   "source": [
    "# Format Dates\n",
    "fixed_date1 = budget_df1[\"Date\"].dt.strptime()"
   ]
  },
  {
   "cell_type": "code",
   "execution_count": 14,
   "metadata": {},
   "outputs": [
    {
     "data": {
      "text/plain": [
       "<bound method NDFrame.describe of         Date  Revenue\n",
       "0     Oct-12  1154293\n",
       "1     Nov-12   885773\n",
       "2     Dec-12  -448704\n",
       "3     Jan-13   563679\n",
       "4     Feb-13   555394\n",
       "5     Mar-13   631974\n",
       "6     Apr-13   957395\n",
       "7     May-13  1104047\n",
       "8     Jun-13   693464\n",
       "9     Jul-13   454932\n",
       "10    Aug-13   727272\n",
       "11    Sep-13   125016\n",
       "12    Oct-13   339251\n",
       "13    Nov-13    78523\n",
       "14    Dec-13   977084\n",
       "15    Jan-14  1158718\n",
       "16    Feb-14   332681\n",
       "17    Mar-14  -341227\n",
       "18    Apr-14   173826\n",
       "19    May-14   742611\n",
       "20    Jun-14  1189806\n",
       "21    Jul-14   607363\n",
       "22    Aug-14 -1172384\n",
       "23    Sep-14   587993\n",
       "24    Oct-14   295198\n",
       "25    Nov-14  -300390\n",
       "26    Dec-14   468995\n",
       "27    Jan-15   698452\n",
       "28    Feb-15   967828\n",
       "29    Mar-15  -454873\n",
       "..       ...      ...\n",
       "56  Sep-2013   339680\n",
       "57  Oct-2013   809253\n",
       "58  Nov-2013   924494\n",
       "59  Dec-2013   998347\n",
       "60  Jan-2014  -524902\n",
       "61  Feb-2014   747765\n",
       "62  Mar-2014   197783\n",
       "63  Apr-2014   131625\n",
       "64  May-2014  1016992\n",
       "65  Jun-2014  -930753\n",
       "66  Jul-2014   714387\n",
       "67  Aug-2014   201005\n",
       "68  Sep-2014   655535\n",
       "69  Oct-2014   845108\n",
       "70  Nov-2014   101736\n",
       "71  Dec-2014   -93063\n",
       "72  Jan-2015   984921\n",
       "73  Feb-2015  -362343\n",
       "74  Mar-2015   940457\n",
       "75  Apr-2015   216399\n",
       "76  May-2015   363036\n",
       "77  Jun-2015   672160\n",
       "78  Jul-2015   783533\n",
       "79  Aug-2015  1079882\n",
       "80  Sep-2015   288933\n",
       "81  Oct-2015   894500\n",
       "82  Nov-2015   411593\n",
       "83  Dec-2015   789575\n",
       "84  Jan-2016   355838\n",
       "85  Feb-2016   437489\n",
       "\n",
       "[127 rows x 2 columns]>"
      ]
     },
     "execution_count": 14,
     "metadata": {},
     "output_type": "execute_result"
    }
   ],
   "source": [
    "# Join DataFrames\n",
    "revenue_df = budget_df1.append(budget_df2)\n",
    "revenue_df.describe"
   ]
  },
  {
   "cell_type": "code",
   "execution_count": 11,
   "metadata": {},
   "outputs": [
    {
     "data": {
      "text/plain": [
       "41"
      ]
     },
     "execution_count": 11,
     "metadata": {},
     "output_type": "execute_result"
    }
   ],
   "source": [
    "# Count months1\n",
    "#len(budget_df1[\"Date\"].value_counts())\n",
    "budget_df1[\"Date\"].value_counts().sum()"
   ]
  },
  {
   "cell_type": "code",
   "execution_count": 12,
   "metadata": {},
   "outputs": [
    {
     "data": {
      "text/plain": [
       "86"
      ]
     },
     "execution_count": 12,
     "metadata": {},
     "output_type": "execute_result"
    }
   ],
   "source": [
    "# Count months2\n",
    "#len(budget_df2[\"Date\"].value_counts())\n",
    "#MonthsTotal = budget_df1.count() budget_df2\n",
    "budget_df2[\"Date\"].value_counts().sum()"
   ]
  },
  {
   "cell_type": "code",
   "execution_count": 13,
   "metadata": {},
   "outputs": [
    {
     "data": {
      "text/plain": [
       "array(['Oct-12', 'Nov-12', 'Dec-12', 'Jan-13', 'Feb-13', 'Mar-13',\n",
       "       'Apr-13', 'May-13', 'Jun-13', 'Jul-13', 'Aug-13', 'Sep-13',\n",
       "       'Oct-13', 'Nov-13', 'Dec-13', 'Jan-14', 'Feb-14', 'Mar-14',\n",
       "       'Apr-14', 'May-14', 'Jun-14', 'Jul-14', 'Aug-14', 'Sep-14',\n",
       "       'Oct-14', 'Nov-14', 'Dec-14', 'Jan-15', 'Feb-15', 'Mar-15',\n",
       "       'Apr-15', 'May-15', 'Jun-15', 'Jul-15', 'Aug-15', 'Sep-15',\n",
       "       'Oct-15', 'Nov-15', 'Dec-15', 'Jan-16', 'Feb-16'], dtype=object)"
      ]
     },
     "execution_count": 13,
     "metadata": {},
     "output_type": "execute_result"
    }
   ],
   "source": [
    "budget_df1[\"Date\"].unique()"
   ]
  },
  {
   "cell_type": "code",
   "execution_count": 14,
   "metadata": {},
   "outputs": [
    {
     "data": {
      "text/plain": [
       "41"
      ]
     },
     "execution_count": 14,
     "metadata": {},
     "output_type": "execute_result"
    }
   ],
   "source": [
    "len(budget_df1[\"Date\"].unique())"
   ]
  },
  {
   "cell_type": "code",
   "execution_count": 15,
   "metadata": {},
   "outputs": [
    {
     "data": {
      "text/plain": [
       "86"
      ]
     },
     "execution_count": 15,
     "metadata": {},
     "output_type": "execute_result"
    }
   ],
   "source": [
    "len(budget_df2[\"Date\"].unique())"
   ]
  },
  {
   "cell_type": "code",
   "execution_count": 16,
   "metadata": {},
   "outputs": [
    {
     "data": {
      "text/plain": [
       "'Apr-13'"
      ]
     },
     "execution_count": 16,
     "metadata": {},
     "output_type": "execute_result"
    }
   ],
   "source": [
    "min(budget_df1[\"Date\"].unique())"
   ]
  },
  {
   "cell_type": "code",
   "execution_count": 17,
   "metadata": {},
   "outputs": [
    {
     "data": {
      "text/plain": [
       "'Sep-15'"
      ]
     },
     "execution_count": 17,
     "metadata": {},
     "output_type": "execute_result"
    }
   ],
   "source": [
    "max(budget_df1[\"Date\"].unique())"
   ]
  },
  {
   "cell_type": "code",
   "execution_count": 18,
   "metadata": {},
   "outputs": [
    {
     "data": {
      "text/plain": [
       "'Apr-2009'"
      ]
     },
     "execution_count": 18,
     "metadata": {},
     "output_type": "execute_result"
    }
   ],
   "source": [
    "min(budget_df2[\"Date\"].unique())"
   ]
  },
  {
   "cell_type": "code",
   "execution_count": 19,
   "metadata": {},
   "outputs": [
    {
     "data": {
      "text/plain": [
       "'Sep-2015'"
      ]
     },
     "execution_count": 19,
     "metadata": {},
     "output_type": "execute_result"
    }
   ],
   "source": [
    "max(budget_df2[\"Date\"].unique())"
   ]
  },
  {
   "cell_type": "code",
   "execution_count": 20,
   "metadata": {},
   "outputs": [
    {
     "name": "stdout",
     "output_type": "stream",
     "text": [
      "41 86\n"
     ]
    }
   ],
   "source": [
    "Months_Total1=len(budget_df1[\"Date\"].unique())\n",
    "Months_Total2=len(budget_df2[\"Date\"].unique())\n",
    "print(Months_Total1,Months_Total2)"
   ]
  },
  {
   "cell_type": "code",
   "execution_count": 23,
   "metadata": {},
   "outputs": [
    {
     "name": "stdout",
     "output_type": "stream",
     "text": [
      "18971412\n"
     ]
    }
   ],
   "source": [
    "Sum_Revenue1=budget_df1[\"Revenue\"].sum()\n",
    "print(Sum_Revenue1)"
   ]
  },
  {
   "cell_type": "code",
   "execution_count": null,
   "metadata": {},
   "outputs": [],
   "source": []
  }
 ],
 "metadata": {
  "kernelspec": {
   "display_name": "Python 3",
   "language": "python",
   "name": "python3"
  },
  "language_info": {
   "codemirror_mode": {
    "name": "ipython",
    "version": 3
   },
   "file_extension": ".py",
   "mimetype": "text/x-python",
   "name": "python",
   "nbconvert_exporter": "python",
   "pygments_lexer": "ipython3",
   "version": "3.6.4"
  }
 },
 "nbformat": 4,
 "nbformat_minor": 2
}
